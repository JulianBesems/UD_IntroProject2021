{
 "cells": [
  {
   "cell_type": "markdown",
   "metadata": {
    "slideshow": {
     "slide_type": "-"
    }
   },
   "source": [
    "---\n",
    "<br/><br/>\n",
    "<br/><br/>\n",
    "<br/><br/>\n",
    "# B-Pro UD 2021/2022\n",
    "# Intro Project\n",
    "<br/><br/>\n",
    "<br/><br/>\n",
    "<br/><br/>"
   ]
  },
  {
   "cell_type": "markdown",
   "metadata": {
    "slideshow": {
     "slide_type": "-"
    }
   },
   "source": [
    "------------------\n",
    "<br/><br/>\n",
    "<br/><br/>\n",
    "<br/><br/>\n",
    "# Welcome\n",
    "### Julian Besems\n",
    "B-Pro UD Design Tutor, RC11\n",
    "\n",
    "### Margie Chaskopoulou\n",
    "B-Pro UD Graduate, RC14\n",
    "<br/><br/>\n",
    "<br/><br/>\n",
    "<br/><br/>"
   ]
  },
  {
   "cell_type": "markdown",
   "metadata": {
    "slideshow": {
     "slide_type": "-"
    }
   },
   "source": [
    "----\n",
    "# Schedule\n",
    "__Wednesday__: 13:00 - 6/10 (Today): _Introduction_\n",
    "- What is programming, Variables, Loops\n",
    "    - Text based assignments for Friday\n",
    "\n",
    "__Thursday__: 12:00 (TBC) - 7/10: _Session 1_ (Margie)\n",
    "- Check Installation, Unity UI  \n",
    "\n",
    "__Friday__: 8:30 - 8/10: _Session 2_\n",
    "- Functions, Lists, Arrays, Read and Write to files\n",
    "    - Instruct Wall-E Assignment for Monday\n",
    "\n",
    "__Monday__: 13:30 (TBC) - 11/10: _Session 3_\n",
    "- Algorithmic problem solving\n",
    "    - Game of Life assignment for Wednesday\n",
    "\n",
    "__Tuesday or Wednesday (TBC)__ : 18:30 - 13/10: _Session 4_\n",
    "- Algorithmic problem solving\n",
    "    - Final assignment based on CA for Friday\n",
    "\n",
    "__Friday__: (TBA) - 15/10: _Final Presentation_"
   ]
  },
  {
   "cell_type": "markdown",
   "metadata": {},
   "source": [
    "----\n",
    "# Session Structure\n",
    "- 1 Hour feedback and questions on assignments\n",
    "- 1 Hour Lecture on new theory\n",
    "- 1 Hour tutorial to start on the next set of assignment\n",
    "\n",
    "All material available on:\n",
    "https://github.com/JulianBesems/UD_IntroProject2021\n",
    "and on Teams"
   ]
  },
  {
   "cell_type": "markdown",
   "metadata": {},
   "source": [
    "----\n",
    "# Assignments\n",
    "The outcome of each set of assignments has to be uploaded as a folder to Teams 3 hours before the start of the next session.\n",
    "\n",
    "#### For the submission please follow this file structure:\n",
    "__first create a folder with your name in teams as follows_\n",
    "- Our Group\n",
    "    - AssignmentSubmissions\n",
    "        - SURNAME_FIRSTNAME   (For example: BESEMS_JULIAN)\n",
    "            - AssignmentName  (For example: AssignmentSession_0)\n",
    "                -All of the assignment files go here (generally only the .cs file, not the entire project unless otherwise specified.)\n",
    "\n"
   ]
  },
  {
   "cell_type": "markdown",
   "metadata": {},
   "source": [
    "----\n",
    "\n",
    "# Install Unity & Visual Studio\n",
    "\n",
    "- Use student registration: https://store.unity.com/#plans-individual\n",
    "- https://unity.com/download\n",
    "- https://docs.microsoft.com/en-us/visualstudio/gamedev/unity/get-started/getting-started-with-visual-studio-tools-for-unity?pivots=macos\n",
    "- If you run into problems this tutorial gives a good explanation of the installation process: https://www.ackosmic.com/en/unity-tutorial-setting-the-environment/\n"
   ]
  },
  {
   "cell_type": "markdown",
   "metadata": {},
   "source": [
    "---\n",
    "<br/><br/>\n",
    "<br/><br/>\n",
    "<br/><br/>\n",
    "# What is Programming?"
   ]
  },
  {
   "cell_type": "markdown",
   "metadata": {},
   "source": [
    "Think of an algorithm -> Express it in a certain programming language"
   ]
  },
  {
   "cell_type": "markdown",
   "metadata": {},
   "source": [
    "<br/><br/>\n",
    "<br/><br/>"
   ]
  },
  {
   "cell_type": "markdown",
   "metadata": {},
   "source": [
    "---\n",
    "# HelloWorld"
   ]
  },
  {
   "cell_type": "markdown",
   "metadata": {},
   "source": [
    "__As a standalone .cs file:__\n",
    "\n",
    "```C#\n",
    "using System;\n",
    "\n",
    "class HelloWorld {\n",
    "    static void Main(){\n",
    "        Console.WriteLine(\"Hello world\");\n",
    "        Console.WriteLine();\n",
    "    }\n",
    "}\n",
    "```"
   ]
  },
  {
   "cell_type": "markdown",
   "metadata": {},
   "source": [
    "_For now we only look at the lines within the Main() function. \n",
    "These are contained within the Main() function of the overall class. Upon execution everything within this function is executed once._"
   ]
  },
  {
   "cell_type": "code",
   "execution_count": 1,
   "metadata": {},
   "outputs": [
    {
     "data": {
      "text/html": [
       "\r\n",
       "<div>\r\n",
       "    <div id='dotnet-interactive-this-cell-2093.Microsoft.DotNet.Interactive.Http.HttpPort' style='display: none'>\r\n",
       "        The below script needs to be able to find the current output cell; this is an easy method to get it.\r\n",
       "    </div>\r\n",
       "    <script type='text/javascript'>\r\n",
       "async function probeAddresses(probingAddresses) {\r\n",
       "    function timeout(ms, promise) {\r\n",
       "        return new Promise(function (resolve, reject) {\r\n",
       "            setTimeout(function () {\r\n",
       "                reject(new Error('timeout'))\r\n",
       "            }, ms)\r\n",
       "            promise.then(resolve, reject)\r\n",
       "        })\r\n",
       "    }\r\n",
       "\r\n",
       "    if (Array.isArray(probingAddresses)) {\r\n",
       "        for (let i = 0; i < probingAddresses.length; i++) {\r\n",
       "\r\n",
       "            let rootUrl = probingAddresses[i];\r\n",
       "\r\n",
       "            if (!rootUrl.endsWith('/')) {\r\n",
       "                rootUrl = `${rootUrl}/`;\r\n",
       "            }\r\n",
       "\r\n",
       "            try {\r\n",
       "                let response = await timeout(1000, fetch(`${rootUrl}discovery`, {\r\n",
       "                    method: 'POST',\r\n",
       "                    cache: 'no-cache',\r\n",
       "                    mode: 'cors',\r\n",
       "                    timeout: 1000,\r\n",
       "                    headers: {\r\n",
       "                        'Content-Type': 'text/plain'\r\n",
       "                    },\r\n",
       "                    body: probingAddresses[i]\r\n",
       "                }));\r\n",
       "\r\n",
       "                if (response.status == 200) {\r\n",
       "                    return rootUrl;\r\n",
       "                }\r\n",
       "            }\r\n",
       "            catch (e) { }\r\n",
       "        }\r\n",
       "    }\r\n",
       "}\r\n",
       "\r\n",
       "function loadDotnetInteractiveApi() {\r\n",
       "    probeAddresses([\"http://192.168.0.14:1024/\", \"http://127.0.0.1:1024/\"])\r\n",
       "        .then((root) => {\r\n",
       "        // use probing to find host url and api resources\r\n",
       "        // load interactive helpers and language services\r\n",
       "        let dotnetInteractiveRequire = require.config({\r\n",
       "        context: '2093.Microsoft.DotNet.Interactive.Http.HttpPort',\r\n",
       "                paths:\r\n",
       "            {\r\n",
       "                'dotnet-interactive': `${root}resources`\r\n",
       "                }\r\n",
       "        }) || require;\r\n",
       "\r\n",
       "            window.dotnetInteractiveRequire = dotnetInteractiveRequire;\r\n",
       "\r\n",
       "            window.configureRequireFromExtension = function(extensionName, extensionCacheBuster) {\r\n",
       "                let paths = {};\r\n",
       "                paths[extensionName] = `${root}extensions/${extensionName}/resources/`;\r\n",
       "                \r\n",
       "                let internalRequire = require.config({\r\n",
       "                    context: extensionCacheBuster,\r\n",
       "                    paths: paths,\r\n",
       "                    urlArgs: `cacheBuster=${extensionCacheBuster}`\r\n",
       "                    }) || require;\r\n",
       "\r\n",
       "                return internalRequire\r\n",
       "            };\r\n",
       "        \r\n",
       "            dotnetInteractiveRequire([\r\n",
       "                    'dotnet-interactive/dotnet-interactive'\r\n",
       "                ],\r\n",
       "                function (dotnet) {\r\n",
       "                    dotnet.init(window);\r\n",
       "                },\r\n",
       "                function (error) {\r\n",
       "                    console.log(error);\r\n",
       "                }\r\n",
       "            );\r\n",
       "        })\r\n",
       "        .catch(error => {console.log(error);});\r\n",
       "    }\r\n",
       "\r\n",
       "// ensure `require` is available globally\r\n",
       "if ((typeof(require) !==  typeof(Function)) || (typeof(require.config) !== typeof(Function))) {\r\n",
       "    let require_script = document.createElement('script');\r\n",
       "    require_script.setAttribute('src', 'https://cdnjs.cloudflare.com/ajax/libs/require.js/2.3.6/require.min.js');\r\n",
       "    require_script.setAttribute('type', 'text/javascript');\r\n",
       "    \r\n",
       "    \r\n",
       "    require_script.onload = function() {\r\n",
       "        loadDotnetInteractiveApi();\r\n",
       "    };\r\n",
       "\r\n",
       "    document.getElementsByTagName('head')[0].appendChild(require_script);\r\n",
       "}\r\n",
       "else {\r\n",
       "    loadDotnetInteractiveApi();\r\n",
       "}\r\n",
       "\r\n",
       "    </script>\r\n",
       "</div>"
      ]
     },
     "metadata": {},
     "output_type": "display_data"
    },
    {
     "name": "stdout",
     "output_type": "stream",
     "text": [
      "Hello world\n",
      "\n"
     ]
    }
   ],
   "source": [
    "Console.WriteLine(\"Hello world\");\n",
    "Console.WriteLine();"
   ]
  },
  {
   "cell_type": "markdown",
   "metadata": {},
   "source": [
    "---"
   ]
  },
  {
   "cell_type": "markdown",
   "metadata": {},
   "source": [
    "__Assignment_00__\n",
    "- Open project in Visual Studio through the .sln file\n",
    "- Open the HelloWorld.cs file in the editor\n",
    "- Run the code\n",
    "- Add another message containing your name\n",
    "- Run again"
   ]
  },
  {
   "cell_type": "markdown",
   "metadata": {},
   "source": [
    "---"
   ]
  },
  {
   "cell_type": "markdown",
   "metadata": {},
   "source": [
    "# Variables"
   ]
  },
  {
   "cell_type": "code",
   "execution_count": 2,
   "metadata": {},
   "outputs": [],
   "source": [
    "int myNumber = 5;"
   ]
  },
  {
   "cell_type": "markdown",
   "metadata": {},
   "source": [
    "```int``` Datatype\n",
    "\n",
    "```myNumber``` Name of variable\n",
    "\n",
    "```5``` Assigned value"
   ]
  },
  {
   "cell_type": "markdown",
   "metadata": {},
   "source": [
    "- Do not use spaces in names of variables\n",
    "- The type of the value needs to match the specified datatype "
   ]
  },
  {
   "cell_type": "code",
   "execution_count": 3,
   "metadata": {},
   "outputs": [
    {
     "name": "stdout",
     "output_type": "stream",
     "text": [
      "5\n"
     ]
    }
   ],
   "source": [
    "Console.WriteLine(myNumber);"
   ]
  },
  {
   "cell_type": "code",
   "execution_count": 4,
   "metadata": {},
   "outputs": [
    {
     "name": "stderr",
     "output_type": "stream",
     "text": [
      "\n",
      "(1,16): error CS0029: Cannot implicitly convert type 'string' to 'int'\n",
      "\n"
     ]
    },
    {
     "ename": "Cell not executed",
     "evalue": "compilation error",
     "output_type": "error",
     "traceback": []
    }
   ],
   "source": [
    "int myNumber = \"julian\";"
   ]
  },
  {
   "cell_type": "code",
   "execution_count": 5,
   "metadata": {},
   "outputs": [],
   "source": [
    "string myNumber = \"Julian\";"
   ]
  },
  {
   "cell_type": "code",
   "execution_count": 6,
   "metadata": {},
   "outputs": [
    {
     "name": "stdout",
     "output_type": "stream",
     "text": [
      "Julian\n"
     ]
    }
   ],
   "source": [
    "Console.WriteLine(myNumber);"
   ]
  },
  {
   "cell_type": "markdown",
   "metadata": {},
   "source": [
    "---"
   ]
  },
  {
   "cell_type": "markdown",
   "metadata": {},
   "source": [
    "# Main data types"
   ]
  },
  {
   "cell_type": "markdown",
   "metadata": {},
   "source": [
    "<br/><br/>\n",
    "```int``` : _integer_ , (whole numbers), ℤ"
   ]
  },
  {
   "cell_type": "code",
   "execution_count": 7,
   "metadata": {},
   "outputs": [],
   "source": [
    "int myInt = 5;"
   ]
  },
  {
   "cell_type": "markdown",
   "metadata": {},
   "source": [
    "<br/><br/>\n",
    "```float``` : _floating number_ , (real numbers), ℝ"
   ]
  },
  {
   "cell_type": "code",
   "execution_count": 8,
   "metadata": {},
   "outputs": [],
   "source": [
    "float myFloat = 5.12f;"
   ]
  },
  {
   "cell_type": "markdown",
   "metadata": {},
   "source": [
    "<br/><br/>\n",
    "```double``` : _double number_ , (same as float but double precision)"
   ]
  },
  {
   "cell_type": "code",
   "execution_count": 9,
   "metadata": {},
   "outputs": [],
   "source": [
    "double myDouble = 3.43;"
   ]
  },
  {
   "cell_type": "markdown",
   "metadata": {},
   "source": [
    "<br/><br/>\n",
    "```bool``` : _boolean_ , (true/false)"
   ]
  },
  {
   "cell_type": "code",
   "execution_count": 10,
   "metadata": {},
   "outputs": [],
   "source": [
    "bool myBool = true;"
   ]
  },
  {
   "cell_type": "markdown",
   "metadata": {},
   "source": [
    "<br/><br/>\n",
    "```char``` : _character_\n",
    "\n",
    "_any single symbol between ```' '``` is a character_"
   ]
  },
  {
   "cell_type": "code",
   "execution_count": 11,
   "metadata": {},
   "outputs": [],
   "source": [
    "char myChar = 'a';"
   ]
  },
  {
   "cell_type": "markdown",
   "metadata": {},
   "source": [
    "<br/><br/>\n",
    "```string``` : _sequence of characters_\n",
    "\n",
    "_any sequence of symbols between ```\" \"``` is a character_"
   ]
  },
  {
   "cell_type": "code",
   "execution_count": 12,
   "metadata": {},
   "outputs": [],
   "source": [
    "string myString = \"Hello World!\";"
   ]
  },
  {
   "cell_type": "markdown",
   "metadata": {},
   "source": [
    "---\n",
    "# Logic operators"
   ]
  },
  {
   "cell_type": "markdown",
   "metadata": {},
   "source": [
    "<br/><br/>\n",
    "``` == ``` : Equals"
   ]
  },
  {
   "cell_type": "code",
   "execution_count": 13,
   "metadata": {},
   "outputs": [
    {
     "name": "stdout",
     "output_type": "stream",
     "text": [
      "False\n"
     ]
    }
   ],
   "source": [
    "bool myBool = 1 == 2;\n",
    "Console.WriteLine(myBool);"
   ]
  },
  {
   "cell_type": "markdown",
   "metadata": {},
   "source": [
    "<br/><br/>\n",
    "``` && ``` : And"
   ]
  },
  {
   "cell_type": "code",
   "execution_count": 14,
   "metadata": {},
   "outputs": [
    {
     "name": "stdout",
     "output_type": "stream",
     "text": [
      "False\n"
     ]
    }
   ],
   "source": [
    "bool myBool = true && false;\n",
    "Console.WriteLine(myBool);"
   ]
  },
  {
   "cell_type": "markdown",
   "metadata": {},
   "source": [
    "<br/><br/>\n",
    "``` || ``` : Or"
   ]
  },
  {
   "cell_type": "code",
   "execution_count": 15,
   "metadata": {},
   "outputs": [
    {
     "name": "stdout",
     "output_type": "stream",
     "text": [
      "True\n"
     ]
    }
   ],
   "source": [
    "bool myBool = true || false;\n",
    "Console.WriteLine(myBool);"
   ]
  },
  {
   "cell_type": "markdown",
   "metadata": {},
   "source": [
    "<br/><br/>\n",
    "``` ! ``` : Not"
   ]
  },
  {
   "cell_type": "code",
   "execution_count": 16,
   "metadata": {},
   "outputs": [
    {
     "name": "stdout",
     "output_type": "stream",
     "text": [
      "False\n"
     ]
    }
   ],
   "source": [
    "bool myBool = !true;\n",
    "Console.WriteLine(myBool);"
   ]
  },
  {
   "cell_type": "markdown",
   "metadata": {},
   "source": [
    "---\n",
    "<br/><br/>\n",
    "# Text based operations\n",
    "## Write some text\n",
    "\n",
    "__In Visual Studio__:```Console.WriteLine(myString);```\n",
    "\n",
    "__In Unity__:```Debug.Log(myString);```"
   ]
  },
  {
   "cell_type": "markdown",
   "metadata": {},
   "source": [
    "---\n",
    "## Read some text\n",
    "\n",
    "__In Visual Studio__:```string someText = Console.Readline();```"
   ]
  },
  {
   "cell_type": "markdown",
   "metadata": {},
   "source": [
    "---\n",
    "## Combine strings\n",
    "\n",
    "Concatenating strings together can simply be done by addition through the ```+``` operator.\n",
    "\n",
    "_Notice how operators can operate on different types!_"
   ]
  },
  {
   "cell_type": "code",
   "execution_count": 17,
   "metadata": {},
   "outputs": [
    {
     "name": "stdout",
     "output_type": "stream",
     "text": [
      "Some String\n"
     ]
    }
   ],
   "source": [
    "string stringA = \"Some\";\n",
    "string stringB = \"String\";\n",
    "string phrase = stringA + \" \" + stringB;\n",
    "\n",
    "Console.WriteLine(phrase);"
   ]
  },
  {
   "cell_type": "markdown",
   "metadata": {},
   "source": [
    "_Since strings are essentially arrays of characters, ```+``` can also be used to add characters to strings:_"
   ]
  },
  {
   "cell_type": "code",
   "execution_count": 18,
   "metadata": {},
   "outputs": [
    {
     "name": "stdout",
     "output_type": "stream",
     "text": [
      "Hello world!\n"
     ]
    }
   ],
   "source": [
    "Console.WriteLine(\"Hello\" + ' ' + \"world\" + '!');"
   ]
  },
  {
   "cell_type": "markdown",
   "metadata": {},
   "source": [
    "---\n",
    "<br/><br/>\n",
    "# Conditions\n"
   ]
  },
  {
   "cell_type": "markdown",
   "metadata": {},
   "source": [
    "<br/><br/>\n",
    "```if```: Test if something fulfills a boolean statement"
   ]
  },
  {
   "cell_type": "code",
   "execution_count": 19,
   "metadata": {},
   "outputs": [
    {
     "name": "stdout",
     "output_type": "stream",
     "text": [
      "The Condition is True\n"
     ]
    }
   ],
   "source": [
    "if(1 < 2){\n",
    "    Console.WriteLine(\"The Condition is True\");\n",
    "}"
   ]
  },
  {
   "cell_type": "markdown",
   "metadata": {},
   "source": [
    "<br/><br/>\n",
    "```else```: Used in combination with if, and defines what to do in case the if condition is false."
   ]
  },
  {
   "cell_type": "code",
   "execution_count": 20,
   "metadata": {},
   "outputs": [
    {
     "name": "stdout",
     "output_type": "stream",
     "text": [
      "The Condition is False\n"
     ]
    },
    {
     "name": "stderr",
     "output_type": "stream",
     "text": [
      "\n",
      "(2,5): warning CS0162: Unreachable code detected\n",
      "\n"
     ]
    }
   ],
   "source": [
    "if(2 < 1){\n",
    "    Console.WriteLine(\"The Condition is True\");\n",
    "}\n",
    "else{\n",
    "    Console.WriteLine(\"The Condition is False\");\n",
    "}"
   ]
  },
  {
   "cell_type": "markdown",
   "metadata": {},
   "source": [
    "<br/><br/>\n",
    "```else if```: Combination of if else for multiple conditions"
   ]
  },
  {
   "cell_type": "code",
   "execution_count": 21,
   "metadata": {},
   "outputs": [
    {
     "name": "stdout",
     "output_type": "stream",
     "text": [
      "Number A is smaller than numberB\n"
     ]
    }
   ],
   "source": [
    "int numberA = 1;\n",
    "int numberB = 2;\n",
    "    \n",
    "if(numberA < numberB){\n",
    "    Console.WriteLine(\"Number A is smaller than numberB\");\n",
    "}\n",
    "else if (numberA > numberB){\n",
    "    Console.WriteLine(\"Number A is larger than number B\");\n",
    "}\n",
    "else{\n",
    "    Console.WriteLine(\"Number A and number B are equal\");\n",
    "}"
   ]
  },
  {
   "cell_type": "markdown",
   "metadata": {},
   "source": [
    "---\n",
    "<br/><br/>\n",
    "# Loops\n"
   ]
  },
  {
   "cell_type": "markdown",
   "metadata": {},
   "source": [
    "<br/><br/>\n",
    "```while```: Keep on performing a statement untill a condition is not true anymore."
   ]
  },
  {
   "cell_type": "code",
   "execution_count": 22,
   "metadata": {},
   "outputs": [
    {
     "name": "stdout",
     "output_type": "stream",
     "text": [
      "number A is still smaller\n",
      "number A is still smaller\n",
      "number A is still smaller\n",
      "number A is still smaller\n",
      "number A is still smaller\n",
      "number A is still smaller\n",
      "number A is still smaller\n",
      "number A is still smaller\n",
      "number A is still smaller\n",
      "number A is still smaller\n",
      "number A is still smaller\n",
      "number A is still smaller\n",
      "number A is still smaller\n",
      "number A is still smaller\n",
      "number A is still smaller\n",
      "number A is still smaller\n",
      "number A is still smaller\n",
      "number A is still smaller\n",
      "number A is still smaller\n",
      "now they are equal\n"
     ]
    }
   ],
   "source": [
    "int numberA = 1;\n",
    "int numberB = 20;\n",
    "\n",
    "while(numberA < numberB){\n",
    "    Console.WriteLine(\"number A is still smaller\");\n",
    "    numberA += 1;\n",
    "}\n",
    "Console.WriteLine(\"now they are equal\");"
   ]
  },
  {
   "cell_type": "markdown",
   "metadata": {},
   "source": [
    "__Be careful for infinite loops!! if the conditions remains true forever, the loop will also go on forever.__"
   ]
  },
  {
   "cell_type": "markdown",
   "metadata": {},
   "source": [
    "<br/><br/>\n",
    "```for```: perform a statement a set number of times."
   ]
  },
  {
   "cell_type": "code",
   "execution_count": 23,
   "metadata": {},
   "outputs": [
    {
     "name": "stdout",
     "output_type": "stream",
     "text": [
      "0\n",
      "1\n",
      "2\n",
      "3\n",
      "4\n",
      "5\n",
      "6\n",
      "7\n",
      "8\n",
      "9\n",
      "10\n",
      "11\n",
      "12\n",
      "13\n",
      "14\n",
      "15\n",
      "16\n",
      "17\n",
      "18\n",
      "19\n",
      "20\n",
      "21\n",
      "22\n",
      "23\n",
      "24\n",
      "25\n",
      "26\n",
      "27\n",
      "28\n",
      "29\n",
      "30\n",
      "31\n",
      "32\n",
      "33\n",
      "34\n",
      "35\n",
      "36\n",
      "37\n",
      "38\n",
      "39\n",
      "40\n",
      "41\n",
      "42\n",
      "43\n",
      "44\n",
      "45\n",
      "46\n",
      "47\n",
      "48\n",
      "49\n",
      "50\n",
      "51\n",
      "52\n",
      "53\n",
      "54\n",
      "55\n",
      "56\n",
      "57\n",
      "58\n",
      "59\n",
      "60\n",
      "61\n",
      "62\n",
      "63\n",
      "64\n",
      "65\n",
      "66\n",
      "67\n",
      "68\n",
      "69\n",
      "70\n",
      "71\n",
      "72\n",
      "73\n",
      "74\n",
      "75\n",
      "76\n",
      "77\n",
      "78\n",
      "79\n",
      "80\n",
      "81\n",
      "82\n",
      "83\n",
      "84\n",
      "85\n",
      "86\n",
      "87\n",
      "88\n",
      "89\n",
      "90\n",
      "91\n",
      "92\n",
      "93\n",
      "94\n",
      "95\n",
      "96\n",
      "97\n",
      "98\n",
      "99\n"
     ]
    }
   ],
   "source": [
    "for(int i = 0; i < 100; i++){\n",
    "    Console.WriteLine(i);\n",
    "}"
   ]
  },
  {
   "cell_type": "markdown",
   "metadata": {},
   "source": [
    "<br/><br/>\n",
    "## What's the output of this piece of code??"
   ]
  },
  {
   "cell_type": "code",
   "execution_count": 25,
   "metadata": {},
   "outputs": [
    {
     "name": "stdout",
     "output_type": "stream",
     "text": [
      "1\n",
      "1\n",
      "2\n",
      "3\n",
      "5\n",
      "8\n",
      "13\n",
      "21\n",
      "34\n",
      "55\n",
      "89\n",
      "144\n",
      "233\n",
      "377\n",
      "610\n",
      "987\n",
      "1597\n",
      "2584\n",
      "4181\n",
      "6765\n"
     ]
    }
   ],
   "source": [
    "int a = 0;\n",
    "int b = 1;\n",
    "int n = 20;\n",
    "\n",
    "for (int i = 0; i < n; i++){\n",
    "    int temp = a;\n",
    "    a = b;\n",
    "    b = temp + b;\n",
    "    Console.WriteLine(a);\n",
    "}"
   ]
  },
  {
   "cell_type": "markdown",
   "metadata": {},
   "source": [
    "---\n",
    "<br/><br/>\n",
    "# External resources\n",
    "\n",
    "__Stack Overflow__: https://stackoverflow.com (easier to look for the problem on google and find the stackoverflow link there)\n",
    "\n",
    "__C# documentation__: https://docs.microsoft.com/en-us/dotnet/csharp/"
   ]
  },
  {
   "cell_type": "markdown",
   "metadata": {},
   "source": [
    "---\n",
    "<br/><br/>\n",
    "# For Tomorrow\n",
    "\n",
    "- Install Visual Studio, and Unity\n",
    "- Make a start with the exercises in the ExercisesSession0 folder in https://github.com/JulianBesems/UD_IntroProject2021/tree/main/0_Introduction\n",
    "\n",
    "# For Friday\n",
    "Finish ExercisesSession0 and upload the completed exercises (only the .cs file) to the teams submission folder as follows:\n",
    "\n",
    "- Our Group\n",
    "    - AssignmentSubmissions\n",
    "        - SURNAME_FIRSTNAME   (For example: BESEMS_JULIAN)\n",
    "            - ExercisesSession0\n",
    "                - your completed exercise files (only .cs files, not the entire visual studio project)"
   ]
  },
  {
   "cell_type": "markdown",
   "metadata": {},
   "source": [
    "---\n",
    "# Exercise Format\n",
    "<img src=\"https://raw.githubusercontent.com/JulianBesems/UD_IntroProject2021/main/0_Introduction/ImagesSlides0/ExerciseFormat.png\" alt=\"drawing\" width=\"1080\"/>"
   ]
  },
  {
   "cell_type": "markdown",
   "metadata": {},
   "source": [
    "## Run to check if the output is correct!"
   ]
  }
 ],
 "metadata": {
  "celltoolbar": "Raw Cell Format",
  "kernelspec": {
   "display_name": ".NET (C#)",
   "language": "C#",
   "name": ".net-csharp"
  },
  "language_info": {
   "file_extension": ".cs",
   "mimetype": "text/x-csharp",
   "name": "C#",
   "pygments_lexer": "csharp",
   "version": "9.0"
  }
 },
 "nbformat": 4,
 "nbformat_minor": 2
}
