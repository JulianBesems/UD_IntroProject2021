{
 "cells": [
  {
   "cell_type": "markdown",
   "metadata": {
    "slideshow": {
     "slide_type": "-"
    }
   },
   "source": [
    "---\n",
    "<br/><br/>\n",
    "<br/><br/>\n",
    "<br/><br/>\n",
    "# Session 3\n",
    "### Lists, Arrays\n",
    "### Read and Write to files\n",
    "<br/><br/>\n",
    "<br/><br/>\n",
    "<br/><br/>"
   ]
  },
  {
   "cell_type": "code",
   "execution_count": 2,
   "metadata": {},
   "outputs": [],
   "source": [
    "void print(int n){\n",
    "    Console.WriteLine(n);\n",
    "}\n",
    "void print(string n){\n",
    "    Console.WriteLine(n);\n",
    "}"
   ]
  },
  {
   "cell_type": "markdown",
   "metadata": {},
   "source": [
    "---\n",
    "# Arrays\n",
    "\n",
    "## A data structure that consists of an ordered set of elements of a fixed size and one type.\n"
   ]
  },
  {
   "cell_type": "markdown",
   "metadata": {},
   "source": [
    "<br/><br/>\n",
    "```[]``` : _array_ , ordered set of elements of fixed length. "
   ]
  },
  {
   "cell_type": "code",
   "execution_count": 4,
   "metadata": {},
   "outputs": [],
   "source": [
    "int[] numbers = {2,2,3,4};"
   ]
  },
  {
   "cell_type": "code",
   "execution_count": 5,
   "metadata": {},
   "outputs": [],
   "source": [
    "string[] words = new string[10];"
   ]
  },
  {
   "cell_type": "markdown",
   "metadata": {},
   "source": [
    "<br/><br/>\n",
    "\n",
    "```int```,  ```string``` : type of the elements\n",
    "\n",
    "```numbers```,  ```words``` : name of the array\n",
    "\n",
    "```{1,2,3,4}```: the set of elements\n",
    "\n",
    "```new string[x]```: construct a new empty array of the specified type and size x\n",
    "\n",
    "```10```: size of the empty array"
   ]
  },
  {
   "cell_type": "markdown",
   "metadata": {},
   "source": [
    "---"
   ]
  },
  {
   "cell_type": "code",
   "execution_count": 6,
   "metadata": {},
   "outputs": [],
   "source": [
    "int [] numbers = {1,2,3,4};\n",
    "int n = numbers[2];"
   ]
  },
  {
   "cell_type": "code",
   "execution_count": null,
   "metadata": {},
   "outputs": [],
   "source": [
    "string[] words = {\"apple\", \"pear\", \"banana\", \"melon\"};\n",
    "string fruit = words[2];\n",
    "print(fruit);"
   ]
  },
  {
   "cell_type": "code",
   "execution_count": 7,
   "metadata": {},
   "outputs": [
    {
     "name": "stdout",
     "output_type": "stream",
     "text": [
      "3\n"
     ]
    }
   ],
   "source": [
    "print(n);"
   ]
  },
  {
   "cell_type": "markdown",
   "metadata": {},
   "source": [
    "<br/><br>\n",
    "## Indexing of arrays start at 0.\n",
    "## Because of this, the last index of an array of size x is x-1\n"
   ]
  },
  {
   "cell_type": "code",
   "execution_count": 11,
   "metadata": {},
   "outputs": [],
   "source": [
    "int[] numbers = {1,2,3,4};\n",
    "int n = numbers[numbers.Length - 1];"
   ]
  },
  {
   "cell_type": "code",
   "execution_count": 12,
   "metadata": {},
   "outputs": [
    {
     "name": "stdout",
     "output_type": "stream",
     "text": [
      "4\n"
     ]
    }
   ],
   "source": [
    "print(n);"
   ]
  },
  {
   "cell_type": "code",
   "execution_count": 13,
   "metadata": {},
   "outputs": [
    {
     "name": "stdout",
     "output_type": "stream",
     "text": [
      "4\n"
     ]
    }
   ],
   "source": [
    "print(numbers.Length);"
   ]
  },
  {
   "cell_type": "markdown",
   "metadata": {},
   "source": [
    "<br/><br>\n",
    "## Assign values to existing array\n"
   ]
  },
  {
   "cell_type": "code",
   "execution_count": 16,
   "metadata": {},
   "outputs": [],
   "source": [
    "void print(string[] wordArray){\n",
    "    for(int i = 0; i < wordArray.Length; i++){\n",
    "        print(i + \":\" + wordArray[i]);\n",
    "    }\n",
    "}\n",
    "\n",
    "void print(int[] numberArray){\n",
    "    for(int i = 0; i < numberArray.Length; i++){\n",
    "        print(i + \":\" + numberArray[i]);\n",
    "    }\n",
    "}"
   ]
  },
  {
   "cell_type": "code",
   "execution_count": 17,
   "metadata": {},
   "outputs": [],
   "source": [
    "string[] words = new string[10];\n",
    "words[0] = \"something\";"
   ]
  },
  {
   "cell_type": "code",
   "execution_count": 18,
   "metadata": {},
   "outputs": [
    {
     "name": "stdout",
     "output_type": "stream",
     "text": [
      "0:something\n",
      "1:\n",
      "2:\n",
      "3:\n",
      "4:\n",
      "5:\n",
      "6:\n",
      "7:\n",
      "8:\n",
      "9:\n"
     ]
    }
   ],
   "source": [
    "print(words);"
   ]
  },
  {
   "cell_type": "code",
   "execution_count": 20,
   "metadata": {},
   "outputs": [],
   "source": [
    "words[4] = \"else\";"
   ]
  },
  {
   "cell_type": "code",
   "execution_count": 21,
   "metadata": {},
   "outputs": [
    {
     "name": "stdout",
     "output_type": "stream",
     "text": [
      "0:something\n",
      "1:\n",
      "2:\n",
      "3:\n",
      "4:else\n",
      "5:\n",
      "6:\n",
      "7:\n",
      "8:\n",
      "9:\n"
     ]
    }
   ],
   "source": [
    "print(words);"
   ]
  },
  {
   "cell_type": "markdown",
   "metadata": {},
   "source": [
    "<br/><br>\n",
    "## Sort arrays\n"
   ]
  },
  {
   "cell_type": "code",
   "execution_count": 22,
   "metadata": {},
   "outputs": [
    {
     "name": "stdout",
     "output_type": "stream",
     "text": [
      "0:3\n",
      "1:2\n",
      "2:1\n",
      "3:4\n"
     ]
    }
   ],
   "source": [
    "int[] numbers = {3,2,1,4};\n",
    "print(numbers);"
   ]
  },
  {
   "cell_type": "code",
   "execution_count": 26,
   "metadata": {},
   "outputs": [
    {
     "name": "stdout",
     "output_type": "stream",
     "text": [
      "0:\n",
      "1:\n",
      "2:\n",
      "3:\n",
      "4:\n",
      "5:\n",
      "6:\n",
      "7:else\n",
      "8:something\n",
      "9:Something\n"
     ]
    }
   ],
   "source": [
    "words[0] = \"Something\";\n",
    "Array.Sort(words);\n",
    "print(words);"
   ]
  },
  {
   "cell_type": "markdown",
   "metadata": {},
   "source": [
    "<br/><br>\n",
    "## Iterating over arrays\n"
   ]
  },
  {
   "cell_type": "code",
   "execution_count": 27,
   "metadata": {},
   "outputs": [
    {
     "name": "stdout",
     "output_type": "stream",
     "text": [
      "0:3\n",
      "1:2\n",
      "2:1\n",
      "3:4\n"
     ]
    }
   ],
   "source": [
    "int[] numbers = {3,2,1,4};\n",
    "for(int i = 0; i < numbers.Length; i++){\n",
    "    print(i + \":\" + numbers[i]);\n",
    "}"
   ]
  },
  {
   "cell_type": "code",
   "execution_count": 28,
   "metadata": {},
   "outputs": [],
   "source": [
    "void print(string[] wordArray){\n",
    "    for(int i = 0; i < wordArray.Length; i++){\n",
    "        print(i + \":\" + wordArray[i]);\n",
    "    }\n",
    "}\n",
    "\n",
    "void print(int[] numberArray){\n",
    "    for(int i = 0; i < numberArray.Length; i++){\n",
    "        print(i + \":\" + numberArray[i]);\n",
    "    }\n",
    "}"
   ]
  },
  {
   "cell_type": "code",
   "execution_count": 29,
   "metadata": {},
   "outputs": [
    {
     "name": "stdout",
     "output_type": "stream",
     "text": [
      "0:1\n",
      "1:2\n",
      "2:3\n",
      "3:4\n"
     ]
    }
   ],
   "source": [
    "Array.Sort(numbers);\n",
    "for(int i = 0; i < numbers.Length; i++){\n",
    "    print(i + \":\" + numbers[i]);\n",
    "}"
   ]
  },
  {
   "cell_type": "markdown",
   "metadata": {},
   "source": [
    "---\n",
    "<br/><br/>\n",
    "# Lists\n",
    "\n",
    "### A data structure that consists of an ordered collection of elements of one type.\n"
   ]
  },
  {
   "cell_type": "markdown",
   "metadata": {},
   "source": [
    "_So not of a fixed length_"
   ]
  },
  {
   "cell_type": "markdown",
   "metadata": {},
   "source": [
    "<br/><br/>\n",
    "```List<>``` : list , ordered set of elements. "
   ]
  },
  {
   "cell_type": "code",
   "execution_count": 31,
   "metadata": {},
   "outputs": [],
   "source": [
    "List<int> numbers = new List<int>();"
   ]
  },
  {
   "cell_type": "markdown",
   "metadata": {},
   "source": [
    "\n",
    "```int``` : type of the elements\n",
    "\n",
    "```numbers```: name of the list\n"
   ]
  },
  {
   "cell_type": "code",
   "execution_count": 32,
   "metadata": {},
   "outputs": [],
   "source": [
    "numbers.Add(1);\n",
    "numbers.Add(2);\n",
    "numbers.Add(3);\n",
    "numbers.Add(4);"
   ]
  },
  {
   "cell_type": "code",
   "execution_count": 33,
   "metadata": {},
   "outputs": [],
   "source": [
    "void print(List<string> wordArray){\n",
    "    foreach(string s in wordArray){\n",
    "        print(s);\n",
    "    }\n",
    "}\n",
    "\n",
    "void print(List<int> wordArray){\n",
    "    foreach(int s in wordArray){\n",
    "        print(s);\n",
    "    }\n",
    "}"
   ]
  },
  {
   "cell_type": "code",
   "execution_count": 34,
   "metadata": {},
   "outputs": [
    {
     "name": "stdout",
     "output_type": "stream",
     "text": [
      "1\n",
      "2\n",
      "3\n",
      "4\n"
     ]
    }
   ],
   "source": [
    "print(numbers);"
   ]
  },
  {
   "cell_type": "code",
   "execution_count": 36,
   "metadata": {},
   "outputs": [
    {
     "name": "stdout",
     "output_type": "stream",
     "text": [
      "1\n",
      "2\n",
      "3\n",
      "4\n",
      "5\n"
     ]
    }
   ],
   "source": [
    "numbers.Add(5);\n",
    "print(numbers);"
   ]
  },
  {
   "cell_type": "code",
   "execution_count": 37,
   "metadata": {},
   "outputs": [],
   "source": [
    "numbers.Remove(2);"
   ]
  },
  {
   "cell_type": "markdown",
   "metadata": {},
   "source": [
    "_What's the value of numbers now?_"
   ]
  },
  {
   "cell_type": "code",
   "execution_count": 38,
   "metadata": {},
   "outputs": [
    {
     "name": "stdout",
     "output_type": "stream",
     "text": [
      "1\n",
      "3\n",
      "4\n",
      "5\n"
     ]
    }
   ],
   "source": [
    "print(numbers);"
   ]
  },
  {
   "cell_type": "code",
   "execution_count": 39,
   "metadata": {},
   "outputs": [],
   "source": [
    "numbers.RemoveAt(2);"
   ]
  },
  {
   "cell_type": "code",
   "execution_count": 40,
   "metadata": {},
   "outputs": [
    {
     "name": "stdout",
     "output_type": "stream",
     "text": [
      "1\n",
      "3\n",
      "5\n"
     ]
    }
   ],
   "source": [
    "print(numbers);"
   ]
  },
  {
   "cell_type": "markdown",
   "metadata": {},
   "source": [
    "<br/><br>\n",
    "## Iterating over lists\n"
   ]
  },
  {
   "cell_type": "code",
   "execution_count": 41,
   "metadata": {},
   "outputs": [],
   "source": [
    "List<int> numbers = new List<int>();\n",
    "for(int i = 0; i < 10; i++){\n",
    "    numbers.Add(i);\n",
    "}"
   ]
  },
  {
   "cell_type": "code",
   "execution_count": 42,
   "metadata": {},
   "outputs": [
    {
     "name": "stdout",
     "output_type": "stream",
     "text": [
      "0\n",
      "1\n",
      "2\n",
      "3\n",
      "4\n",
      "5\n",
      "6\n",
      "7\n",
      "8\n",
      "9\n"
     ]
    }
   ],
   "source": [
    "foreach(int n in numbers){\n",
    "    print(n);\n",
    "}"
   ]
  },
  {
   "cell_type": "code",
   "execution_count": 45,
   "metadata": {},
   "outputs": [],
   "source": [
    "void print(List<string> wordArray){\n",
    "    foreach(string s in wordArray){\n",
    "        print(s);\n",
    "    }\n",
    "}\n",
    "\n",
    "void print(List<int> numberArray){\n",
    "    foreach(int s in numberArray){\n",
    "        print(s);\n",
    "    }\n",
    "}"
   ]
  },
  {
   "cell_type": "code",
   "execution_count": 46,
   "metadata": {},
   "outputs": [
    {
     "name": "stdout",
     "output_type": "stream",
     "text": [
      "0\n",
      "1\n",
      "2\n",
      "3\n",
      "4\n",
      "5\n",
      "6\n",
      "7\n",
      "8\n",
      "9\n"
     ]
    }
   ],
   "source": [
    "print(numbers);"
   ]
  },
  {
   "cell_type": "markdown",
   "metadata": {},
   "source": [
    "---\n",
    "<br/><br/>\n",
    "# Multidimensional Arrays\n",
    "\n",
    "## Essentially an array, where every cell is an array itself. \n"
   ]
  },
  {
   "cell_type": "code",
   "execution_count": 47,
   "metadata": {},
   "outputs": [],
   "source": [
    "int[,] numbers = new int[5,6];"
   ]
  },
  {
   "cell_type": "markdown",
   "metadata": {},
   "source": [
    "\n",
    "```5``` : number of rows\n",
    "\n",
    "```6```: number of columns\n"
   ]
  },
  {
   "cell_type": "code",
   "execution_count": 48,
   "metadata": {},
   "outputs": [],
   "source": [
    "for(int i = 0; i < 5; i++){\n",
    "    for(int j = 0; j < 6; j++){\n",
    "        numbers[i,j] = i+j;\n",
    "    }\n",
    "}"
   ]
  },
  {
   "cell_type": "markdown",
   "metadata": {},
   "source": [
    "_What's the output?_"
   ]
  },
  {
   "cell_type": "code",
   "execution_count": 49,
   "metadata": {},
   "outputs": [
    {
     "name": "stdout",
     "output_type": "stream",
     "text": [
      "012345\n",
      "123456\n",
      "234567\n",
      "345678\n",
      "456789\n"
     ]
    }
   ],
   "source": [
    "for(int i = 0; i < 5; i++){\n",
    "    for(int j = 0; j < 6; j++){\n",
    "        Console.Write(numbers[i,j]);\n",
    "    }\n",
    "    Console.Write('\\n');\n",
    "}"
   ]
  },
  {
   "cell_type": "markdown",
   "metadata": {},
   "source": [
    "\n",
    "<br/><br/>\n",
    "\n",
    "_What's the output?_"
   ]
  },
  {
   "cell_type": "code",
   "execution_count": 55,
   "metadata": {},
   "outputs": [
    {
     "name": "stdout",
     "output_type": "stream",
     "text": [
      "000000\n",
      "111111\n",
      "222222\n",
      "333333\n",
      "444444\n"
     ]
    }
   ],
   "source": [
    "for(int i = 0; i < 5; i++){\n",
    "    for(int j = 0; j < 6; j++){\n",
    "        numbers[i,j] = i;\n",
    "    }\n",
    "}\n",
    "for(int i = 0; i < 5; i++){\n",
    "    for(int j = 0; j < 6; j++){\n",
    "        Console.Write(numbers[i,j]);\n",
    "    }\n",
    "    Console.Write('\\n');\n",
    "}"
   ]
  },
  {
   "cell_type": "code",
   "execution_count": 58,
   "metadata": {},
   "outputs": [],
   "source": [
    "int[] numbers = {1,2,3,4};"
   ]
  },
  {
   "cell_type": "markdown",
   "metadata": {},
   "source": [
    "---\n",
    "<br/><br/>\n",
    "# Reading and Writing to files\n",
    "\n",
    "### Writing an array to a .txt file:"
   ]
  },
  {
   "cell_type": "code",
   "execution_count": 59,
   "metadata": {},
   "outputs": [],
   "source": [
    "string[] lines = {\"first line\", \"second line\", \"third line\"};"
   ]
  },
  {
   "cell_type": "code",
   "execution_count": 60,
   "metadata": {},
   "outputs": [],
   "source": [
    "System.IO.File.WriteAllLines(\"Output/WriteLines.txt\", lines);"
   ]
  },
  {
   "cell_type": "markdown",
   "metadata": {},
   "source": [
    "## Careful with the filepath, differs per OS\n",
    "\n",
    "### On Mac\n",
    "For example:\n",
    "\n",
    "``` ~/Documents/C#Exercises/Session3/WriteLines.txt ```\n",
    "\n",
    "or if the file is in the same folder as the C# file:\n",
    "```WriteLines.txt```\n",
    "\n",
    "https://support.apple.com/en-gb/guide/terminal/apd3cf6fe02-3ec8-48f1-951f-866e52955fc8/mac"
   ]
  },
  {
   "cell_type": "markdown",
   "metadata": {},
   "source": [
    "### On Windows\n",
    "For example:\n",
    "\n",
    "``` C:\\Users\\Public\\Documents\\C#Exercises\\session3\\WriteLines.txt ```\n",
    "\n",
    "or if the file is in the same folder as the C# file:\n",
    "```WriteLines.txt```\n",
    "\n",
    "https://docs.microsoft.com/en-us/dotnet/standard/io/file-path-formats"
   ]
  },
  {
   "cell_type": "markdown",
   "metadata": {},
   "source": [
    "## Especially the / vs \\ !!"
   ]
  },
  {
   "cell_type": "markdown",
   "metadata": {},
   "source": [
    "---\n",
    "<br/><br/>\n",
    "### Writing a string to .txt file:"
   ]
  },
  {
   "cell_type": "code",
   "execution_count": 62,
   "metadata": {},
   "outputs": [],
   "source": [
    "string text = \"A class is the most powerful data \"+ \n",
    "    \"type in C#. Like a structure, a class defines \" + \n",
    "    \"the data and behaviour of the data type.\";\n",
    "\n",
    "System.IO.File.WriteAllText(\"Output/WriteString.txt\", text);"
   ]
  },
  {
   "cell_type": "code",
   "execution_count": 63,
   "metadata": {},
   "outputs": [],
   "source": [
    "string[] lines = {\"first line\", \"second line\", \"third line\"};"
   ]
  },
  {
   "cell_type": "markdown",
   "metadata": {},
   "source": [
    "\n",
    "### Writing a string to .txt file selectively:"
   ]
  },
  {
   "cell_type": "code",
   "execution_count": 64,
   "metadata": {},
   "outputs": [],
   "source": [
    "using(System.IO.StreamWriter file = new System.IO.StreamWriter(\"Output/SelectiveWrite.txt\")){\n",
    "    foreach (string line in lines){\n",
    "        if(!line.Contains(\"second\")){\n",
    "            file.WriteLine(line);\n",
    "        }\n",
    "    }\n",
    "}"
   ]
  },
  {
   "cell_type": "markdown",
   "metadata": {},
   "source": [
    "\n",
    "### Add string to .txt file:"
   ]
  },
  {
   "cell_type": "code",
   "execution_count": 68,
   "metadata": {},
   "outputs": [],
   "source": [
    "using (System.IO.StreamWriter file = new System.IO.StreamWriter(\"Output/SelectiveWrite.txt\", true))\n",
    "{\n",
    "   file.WriteLine(\"Fifth line\");\n",
    "}"
   ]
  },
  {
   "cell_type": "markdown",
   "metadata": {},
   "source": [
    "---\n",
    "<br/><br/>\n",
    "### Read from .txt file:"
   ]
  },
  {
   "cell_type": "code",
   "execution_count": 70,
   "metadata": {},
   "outputs": [
    {
     "name": "stdout",
     "output_type": "stream",
     "text": [
      "first line\n",
      "second line\n",
      "third line\n",
      "\n",
      "\n",
      "\n",
      "seventh line\n"
     ]
    }
   ],
   "source": [
    "string text = System.IO.File.ReadAllText(\"Output/WriteLines.txt\");\n",
    "print(text);"
   ]
  },
  {
   "cell_type": "code",
   "execution_count": 71,
   "metadata": {},
   "outputs": [],
   "source": [
    "string[] lines = System.IO.File.ReadAllLines(\"Output/WriteLines.txt\");"
   ]
  },
  {
   "cell_type": "code",
   "execution_count": 75,
   "metadata": {},
   "outputs": [
    {
     "name": "stdout",
     "output_type": "stream",
     "text": [
      "Contents: \n",
      "\tfirst line\n",
      "\tsecond line\n",
      "\tthird line\n",
      "\t\n",
      "\t\n",
      "\t\n",
      "\tseventh line\n"
     ]
    }
   ],
   "source": [
    "System.Console.WriteLine(\"Contents: \");\n",
    "foreach (string line in lines){\n",
    "   Console.WriteLine(\"\\t\" + line);\n",
    "}"
   ]
  },
  {
   "cell_type": "code",
   "execution_count": 76,
   "metadata": {},
   "outputs": [
    {
     "name": "stdout",
     "output_type": "stream",
     "text": [
      "first line\n"
     ]
    }
   ],
   "source": [
    "print(lines[0]);"
   ]
  },
  {
   "cell_type": "markdown",
   "metadata": {},
   "source": [
    "---\n",
    "<br/><br/>\n",
    "# Game of Life\n",
    "\n",
    "\n",
    "_The Game of Life, also known simply as Life, is a cellular automaton devised by the British mathematician John Horton Conway in 1970._\n",
    "\n",
    "<br/><br/>\n",
    "\n",
    "- Any live cell with fewer than two live neighbours dies, as if by underpopulation.\n",
    "- Any live cell with two or three live neighbours lives on to the next generation.\n",
    "- Any live cell with more than three live neighbours dies, as if by overpopulation.\n",
    "- Any dead cell with exactly three live neighbours becomes a live cell, as if by reproduction.\n",
    "\n",
    "__These rules, which compare the behaviour of the automaton to real life, can be condensed into the following:__\n",
    "- Any live cell with two or three live neighbours survives.\n",
    "- Any dead cell with three live neighbours becomes a live cell.\n",
    "- All other live cells die in the next generation. Similarly, all other dead cells stay dead.\n",
    "\n",
    "https://en.wikipedia.org/wiki/Conway%27s_Game_of_Life\n",
    "\n",
    "\n",
    "<img src=\"https://upload.wikimedia.org/wikipedia/commons/e/e5/Gospers_glider_gun.gif\" alt=\"drawing\" width=\"720\"/>\n",
    "\n",
    "<img src=\"https://upload.wikimedia.org/wikipedia/commons/e/e6/Conways_game_of_life_breeder_animation.gif\" alt=\"drawing\" width=\"720\"/>\n",
    "\n",
    "<img src=\"https://matthewdharriscom.files.wordpress.com/2016/02/gol1b.gif?w=480&zoom=2\" alt=\"drawing\" width=\"720\"/>"
   ]
  },
  {
   "cell_type": "markdown",
   "metadata": {},
   "source": [
    "---\n",
    "<br/><br/>\n",
    "# Exercises\n",
    "\n",
    "\n",
    "__Read and write in VS:__\n",
    "- Make a variety of files through writing methods as described in the slides\n",
    "- Read the files and print the contents as described in the slides\n",
    "\n",
    "__Array exercise in VS:__\n",
    "- Small exercise on arrays\n",
    "\n",
    "__Game of life:__\n",
    "- Finish the game of life project\n",
    "- Add a function to read starting patterns from a .txt file"
   ]
  },
  {
   "cell_type": "code",
   "execution_count": null,
   "metadata": {},
   "outputs": [],
   "source": []
  }
 ],
 "metadata": {
  "kernelspec": {
   "display_name": ".NET (C#)",
   "language": "C#",
   "name": ".net-csharp"
  },
  "language_info": {
   "file_extension": ".cs",
   "mimetype": "text/x-csharp",
   "name": "C#",
   "pygments_lexer": "csharp",
   "version": "9.0"
  }
 },
 "nbformat": 4,
 "nbformat_minor": 2
}
