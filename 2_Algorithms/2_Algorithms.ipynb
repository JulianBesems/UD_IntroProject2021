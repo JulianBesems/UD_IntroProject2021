{
 "cells": [
  {
   "cell_type": "markdown",
   "metadata": {
    "slideshow": {
     "slide_type": "-"
    }
   },
   "source": [
    "---\n",
    "<br/><br/>\n",
    "<br/><br/>\n",
    "<br/><br/>\n",
    "# Session 2\n",
    "## Iterative Algorithms: Functions, Classes\n",
    "<br/><br/>\n",
    "<br/><br/>\n",
    "<br/><br/>"
   ]
  },
  {
   "cell_type": "markdown",
   "metadata": {
    "slideshow": {
     "slide_type": "-"
    }
   },
   "source": [
    "------------------\n",
    "<br/><br/>\n",
    "<br/><br/>\n",
    "<br/><br/>\n",
    "# Concepts\n",
    "- _Algorithm:_ Precise description of what has to be done to arrive to a solution of a specific problem\n",
    "- _Programming language:_ Formalism to denote algorithms in such a way that they can be executed by a computer\n",
    "- _Program:_ An algorithm that can be executed by a computer\n",
    "- _Programming:_ The manufacturing of a program\n",
    "- _Programming environment:_ Tool set to augment human intelligence (you) in programming [Douglas Engelbart]\n",
    "<br/><br/>\n",
    "<br/><br/>\n",
    "<br/><br/>"
   ]
  },
  {
   "cell_type": "markdown",
   "metadata": {
    "slideshow": {
     "slide_type": "-"
    }
   },
   "source": [
    "----\n",
    "\n",
    "<br/><br/>\n",
    "# Algorithms in daily life"
   ]
  },
  {
   "cell_type": "markdown",
   "metadata": {},
   "source": [
    "<img src=\"https://raw.githubusercontent.com/JulianBesems/UD_IntroProject2021/main/2_Algorithms/ImagesSlides2/0_ramen.png\" alt=\"drawing\" width=\"1080\"/>"
   ]
  },
  {
   "cell_type": "markdown",
   "metadata": {},
   "source": [
    "\n",
    "\n",
    "### Remarks\n",
    "- Subdivision of alrogithms\n",
    "- sequence is important"
   ]
  },
  {
   "cell_type": "markdown",
   "metadata": {},
   "source": [
    "----\n",
    "<br/><br/>\n",
    "# Algorithms and Languages\n",
    "\n",
    "## Algorithms\n",
    "---\n",
    "### Algorithm\n",
    "- Elementary\n",
    "- Compound \n",
    "---\n",
    "_Acts on one or more data objects_\n",
    "\n",
    "---\n",
    "### Data objects\n",
    "- Elementary\n",
    "- Compound\n",
    "\n",
    "---\n",
    "\n",
    "## Languages\n",
    "---\n",
    "### Syntax\n",
    "- When a progam is well-formed\n",
    "\n",
    "### Semantics\n",
    "- What a program does"
   ]
  },
  {
   "cell_type": "markdown",
   "metadata": {},
   "source": [
    "----\n",
    "<br/><br/>\n",
    "# Use of a language\n",
    "1. Identify the problem\n",
    "2. Think of an algorithmic approach to solving it\n",
    "3. Formulate it in a programming language\n",
    "\n",
    "<br/> <br/>\n",
    "_Not too dissimular from architectural language of technical drawing._\n",
    "- Identify design problem\n",
    "- Develop an approach through sketching\n",
    "- Formulate the design in technical drawings like sections and plans"
   ]
  },
  {
   "cell_type": "markdown",
   "metadata": {},
   "source": [
    "----\n",
    "<br/><br/>\n",
    "# Where can it go wrong?\n",
    "\n",
    "__Runtime Error__ : The algorithm isn't correct  __:(__\n",
    "\n",
    "__Syntax Error__ : The formulation isn't correct  __:)__\n",
    "\n",
    "\n"
   ]
  },
  {
   "cell_type": "markdown",
   "metadata": {},
   "source": [
    "<img src=\"https://raw.githubusercontent.com/JulianBesems/UD_IntroProject2021/main/2_Algorithms/ImagesSlides2/1_error.png\" alt=\"drawing\" width=\"1080\"/>"
   ]
  },
  {
   "cell_type": "markdown",
   "metadata": {},
   "source": [
    "----\n",
    "<br/><br/>\n",
    "# Debugging\n",
    "\n",
    "__If the program doesn't do what you want, check along the way:__\n",
    "\n",
    "_Add print statments_ hence in unity done by:\n",
    "\n",
    "``` Debug.Log(someText);```\n"
   ]
  },
  {
   "cell_type": "markdown",
   "metadata": {},
   "source": [
    "---\n",
    "<br/><br/>\n",
    "<br/><br/>\n",
    "<br/><br/>\n",
    "# Building blocks for algorithms"
   ]
  },
  {
   "cell_type": "markdown",
   "metadata": {},
   "source": [
    "__Variables__"
   ]
  },
  {
   "cell_type": "code",
   "execution_count": null,
   "metadata": {},
   "outputs": [],
   "source": []
  },
  {
   "cell_type": "markdown",
   "metadata": {},
   "source": [
    "__Operators__"
   ]
  },
  {
   "cell_type": "code",
   "execution_count": null,
   "metadata": {},
   "outputs": [],
   "source": []
  },
  {
   "cell_type": "markdown",
   "metadata": {},
   "source": [
    "__Conditions__"
   ]
  },
  {
   "cell_type": "code",
   "execution_count": null,
   "metadata": {},
   "outputs": [],
   "source": []
  },
  {
   "cell_type": "markdown",
   "metadata": {},
   "source": [
    "__Loops__"
   ]
  },
  {
   "cell_type": "code",
   "execution_count": null,
   "metadata": {},
   "outputs": [],
   "source": []
  },
  {
   "cell_type": "markdown",
   "metadata": {},
   "source": [
    "__Functions__"
   ]
  },
  {
   "cell_type": "code",
   "execution_count": null,
   "metadata": {},
   "outputs": [],
   "source": []
  },
  {
   "cell_type": "markdown",
   "metadata": {},
   "source": [
    "__Classes__"
   ]
  },
  {
   "cell_type": "code",
   "execution_count": null,
   "metadata": {},
   "outputs": [],
   "source": []
  },
  {
   "cell_type": "markdown",
   "metadata": {},
   "source": [
    "<br/><br/>\n",
    "<br/><br/>"
   ]
  },
  {
   "cell_type": "markdown",
   "metadata": {},
   "source": [
    "---\n",
    "# Variables (Recap)"
   ]
  },
  {
   "cell_type": "markdown",
   "metadata": {},
   "source": [
    "<br/><br/>\n",
    "```int``` : _integer_ , (whole numbers), ℤ"
   ]
  },
  {
   "cell_type": "code",
   "execution_count": 1,
   "metadata": {},
   "outputs": [
    {
     "data": {
      "text/html": [
       "\r\n",
       "<div>\r\n",
       "    <div id='dotnet-interactive-this-cell-4303.Microsoft.DotNet.Interactive.Http.HttpPort' style='display: none'>\r\n",
       "        The below script needs to be able to find the current output cell; this is an easy method to get it.\r\n",
       "    </div>\r\n",
       "    <script type='text/javascript'>\r\n",
       "async function probeAddresses(probingAddresses) {\r\n",
       "    function timeout(ms, promise) {\r\n",
       "        return new Promise(function (resolve, reject) {\r\n",
       "            setTimeout(function () {\r\n",
       "                reject(new Error('timeout'))\r\n",
       "            }, ms)\r\n",
       "            promise.then(resolve, reject)\r\n",
       "        })\r\n",
       "    }\r\n",
       "\r\n",
       "    if (Array.isArray(probingAddresses)) {\r\n",
       "        for (let i = 0; i < probingAddresses.length; i++) {\r\n",
       "\r\n",
       "            let rootUrl = probingAddresses[i];\r\n",
       "\r\n",
       "            if (!rootUrl.endsWith('/')) {\r\n",
       "                rootUrl = `${rootUrl}/`;\r\n",
       "            }\r\n",
       "\r\n",
       "            try {\r\n",
       "                let response = await timeout(1000, fetch(`${rootUrl}discovery`, {\r\n",
       "                    method: 'POST',\r\n",
       "                    cache: 'no-cache',\r\n",
       "                    mode: 'cors',\r\n",
       "                    timeout: 1000,\r\n",
       "                    headers: {\r\n",
       "                        'Content-Type': 'text/plain'\r\n",
       "                    },\r\n",
       "                    body: probingAddresses[i]\r\n",
       "                }));\r\n",
       "\r\n",
       "                if (response.status == 200) {\r\n",
       "                    return rootUrl;\r\n",
       "                }\r\n",
       "            }\r\n",
       "            catch (e) { }\r\n",
       "        }\r\n",
       "    }\r\n",
       "}\r\n",
       "\r\n",
       "function loadDotnetInteractiveApi() {\r\n",
       "    probeAddresses([\"http://127.0.0.1:1024/\"])\r\n",
       "        .then((root) => {\r\n",
       "        // use probing to find host url and api resources\r\n",
       "        // load interactive helpers and language services\r\n",
       "        let dotnetInteractiveRequire = require.config({\r\n",
       "        context: '4303.Microsoft.DotNet.Interactive.Http.HttpPort',\r\n",
       "                paths:\r\n",
       "            {\r\n",
       "                'dotnet-interactive': `${root}resources`\r\n",
       "                }\r\n",
       "        }) || require;\r\n",
       "\r\n",
       "            window.dotnetInteractiveRequire = dotnetInteractiveRequire;\r\n",
       "\r\n",
       "            window.configureRequireFromExtension = function(extensionName, extensionCacheBuster) {\r\n",
       "                let paths = {};\r\n",
       "                paths[extensionName] = `${root}extensions/${extensionName}/resources/`;\r\n",
       "                \r\n",
       "                let internalRequire = require.config({\r\n",
       "                    context: extensionCacheBuster,\r\n",
       "                    paths: paths,\r\n",
       "                    urlArgs: `cacheBuster=${extensionCacheBuster}`\r\n",
       "                    }) || require;\r\n",
       "\r\n",
       "                return internalRequire\r\n",
       "            };\r\n",
       "        \r\n",
       "            dotnetInteractiveRequire([\r\n",
       "                    'dotnet-interactive/dotnet-interactive'\r\n",
       "                ],\r\n",
       "                function (dotnet) {\r\n",
       "                    dotnet.init(window);\r\n",
       "                },\r\n",
       "                function (error) {\r\n",
       "                    console.log(error);\r\n",
       "                }\r\n",
       "            );\r\n",
       "        })\r\n",
       "        .catch(error => {console.log(error);});\r\n",
       "    }\r\n",
       "\r\n",
       "// ensure `require` is available globally\r\n",
       "if ((typeof(require) !==  typeof(Function)) || (typeof(require.config) !== typeof(Function))) {\r\n",
       "    let require_script = document.createElement('script');\r\n",
       "    require_script.setAttribute('src', 'https://cdnjs.cloudflare.com/ajax/libs/require.js/2.3.6/require.min.js');\r\n",
       "    require_script.setAttribute('type', 'text/javascript');\r\n",
       "    \r\n",
       "    \r\n",
       "    require_script.onload = function() {\r\n",
       "        loadDotnetInteractiveApi();\r\n",
       "    };\r\n",
       "\r\n",
       "    document.getElementsByTagName('head')[0].appendChild(require_script);\r\n",
       "}\r\n",
       "else {\r\n",
       "    loadDotnetInteractiveApi();\r\n",
       "}\r\n",
       "\r\n",
       "    </script>\r\n",
       "</div>"
      ]
     },
     "metadata": {},
     "output_type": "display_data"
    }
   ],
   "source": [
    "int myInt = 5;"
   ]
  },
  {
   "cell_type": "markdown",
   "metadata": {},
   "source": [
    "<br/><br/>\n",
    "```float``` : _floating number_ , (real numbers), ℝ"
   ]
  },
  {
   "cell_type": "code",
   "execution_count": 2,
   "metadata": {},
   "outputs": [],
   "source": [
    "float myFloat = 5.12f;"
   ]
  },
  {
   "cell_type": "markdown",
   "metadata": {},
   "source": [
    "<br/><br/>\n",
    "```double``` : _double number_ , (same as float but double precision)"
   ]
  },
  {
   "cell_type": "code",
   "execution_count": 3,
   "metadata": {},
   "outputs": [],
   "source": [
    "double myDouble = 3.5454 + 4;"
   ]
  },
  {
   "cell_type": "markdown",
   "metadata": {},
   "source": [
    "<br/><br/>\n",
    "```bool``` : _boolean_ , (true/false)"
   ]
  },
  {
   "cell_type": "code",
   "execution_count": 4,
   "metadata": {},
   "outputs": [],
   "source": [
    "bool myBool = false;"
   ]
  },
  {
   "cell_type": "markdown",
   "metadata": {},
   "source": [
    "<br/><br/>\n",
    "```char``` : _character_\n",
    "\n",
    "_any single symbol between ```' '``` is a character_"
   ]
  },
  {
   "cell_type": "code",
   "execution_count": 5,
   "metadata": {},
   "outputs": [],
   "source": [
    "char myChar = 'a';"
   ]
  },
  {
   "cell_type": "markdown",
   "metadata": {},
   "source": [
    "<br/><br/>\n",
    "```string``` : _sequence of characters_\n",
    "\n",
    "_any sequence of symbols between ```\" \"``` is a character_"
   ]
  },
  {
   "cell_type": "code",
   "execution_count": 6,
   "metadata": {},
   "outputs": [],
   "source": [
    "string a = \"Hello World!\" + '!';"
   ]
  },
  {
   "cell_type": "markdown",
   "metadata": {},
   "source": [
    "<br/><br/>\n",
    "\n",
    "-----\n",
    "```[]``` : _array_, A data structure that consists of an ordered set of elements of a fixed size and one type. \n"
   ]
  },
  {
   "cell_type": "code",
   "execution_count": 7,
   "metadata": {},
   "outputs": [],
   "source": [
    "int[] numbers = {1,2,3,4};"
   ]
  },
  {
   "cell_type": "markdown",
   "metadata": {},
   "source": [
    "---\n",
    "# Logic operators (Recap)"
   ]
  },
  {
   "cell_type": "markdown",
   "metadata": {},
   "source": [
    "<br/><br/>\n",
    "``` == ``` : Equals"
   ]
  },
  {
   "cell_type": "code",
   "execution_count": 8,
   "metadata": {},
   "outputs": [
    {
     "name": "stdout",
     "output_type": "stream",
     "text": [
      "True\n"
     ]
    }
   ],
   "source": [
    "bool myBool = true == true;\n",
    "Console.WriteLine(myBool);"
   ]
  },
  {
   "cell_type": "markdown",
   "metadata": {},
   "source": [
    "<br/><br/>\n",
    "``` && ``` : And"
   ]
  },
  {
   "cell_type": "code",
   "execution_count": 9,
   "metadata": {},
   "outputs": [
    {
     "name": "stdout",
     "output_type": "stream",
     "text": [
      "True\n"
     ]
    }
   ],
   "source": [
    "bool myBool = true && true;\n",
    "Console.WriteLine(myBool);"
   ]
  },
  {
   "cell_type": "markdown",
   "metadata": {},
   "source": [
    "<br/><br/>\n",
    "``` || ``` : Or"
   ]
  },
  {
   "cell_type": "code",
   "execution_count": 10,
   "metadata": {},
   "outputs": [
    {
     "name": "stdout",
     "output_type": "stream",
     "text": [
      "True\n"
     ]
    }
   ],
   "source": [
    "bool myBool = true || true;\n",
    "Console.WriteLine(myBool);"
   ]
  },
  {
   "cell_type": "markdown",
   "metadata": {},
   "source": [
    "<br/><br/>\n",
    "``` ! ``` : Not"
   ]
  },
  {
   "cell_type": "code",
   "execution_count": 11,
   "metadata": {},
   "outputs": [
    {
     "name": "stdout",
     "output_type": "stream",
     "text": [
      "False\n"
     ]
    }
   ],
   "source": [
    "bool myBool = !true;\n",
    "Console.WriteLine(myBool);"
   ]
  },
  {
   "cell_type": "markdown",
   "metadata": {},
   "source": [
    "<br/><br/>\n",
    "``` != ``` : Not equals"
   ]
  },
  {
   "cell_type": "code",
   "execution_count": 12,
   "metadata": {},
   "outputs": [
    {
     "name": "stdout",
     "output_type": "stream",
     "text": [
      "True\n"
     ]
    }
   ],
   "source": [
    "bool myBool = true != false;\n",
    "Console.WriteLine(myBool);"
   ]
  },
  {
   "cell_type": "markdown",
   "metadata": {},
   "source": [
    "---\n",
    "# Order Operators"
   ]
  },
  {
   "cell_type": "markdown",
   "metadata": {},
   "source": [
    "<br/><br/>\n",
    "``` == ``` : Equals"
   ]
  },
  {
   "cell_type": "code",
   "execution_count": 13,
   "metadata": {},
   "outputs": [
    {
     "name": "stdout",
     "output_type": "stream",
     "text": [
      "False\n"
     ]
    }
   ],
   "source": [
    "bool myBool = 1 == 2;\n",
    "Console.WriteLine(myBool);"
   ]
  },
  {
   "cell_type": "markdown",
   "metadata": {},
   "source": [
    "<br/><br/>\n",
    "``` < ``` : Less than"
   ]
  },
  {
   "cell_type": "code",
   "execution_count": 14,
   "metadata": {},
   "outputs": [
    {
     "name": "stdout",
     "output_type": "stream",
     "text": [
      "True\n"
     ]
    }
   ],
   "source": [
    "bool myBool = 1 < 2;\n",
    "Console.WriteLine(myBool);"
   ]
  },
  {
   "cell_type": "markdown",
   "metadata": {},
   "source": [
    "<br/><br/>\n",
    "``` < ``` : Greater than"
   ]
  },
  {
   "cell_type": "code",
   "execution_count": 15,
   "metadata": {},
   "outputs": [
    {
     "name": "stdout",
     "output_type": "stream",
     "text": [
      "False\n"
     ]
    }
   ],
   "source": [
    "bool myBool = 1 > 2;\n",
    "Console.WriteLine(myBool);"
   ]
  },
  {
   "cell_type": "markdown",
   "metadata": {},
   "source": [
    "<br/><br/>\n",
    "``` <= ``` : Less than or equal"
   ]
  },
  {
   "cell_type": "code",
   "execution_count": 16,
   "metadata": {},
   "outputs": [
    {
     "name": "stdout",
     "output_type": "stream",
     "text": [
      "True\n"
     ]
    }
   ],
   "source": [
    "bool myBool = 1 <= 2;\n",
    "Console.WriteLine(myBool);"
   ]
  },
  {
   "cell_type": "markdown",
   "metadata": {},
   "source": [
    "<br/><br/>\n",
    "``` >= ``` : Greater than or equal"
   ]
  },
  {
   "cell_type": "code",
   "execution_count": 17,
   "metadata": {},
   "outputs": [
    {
     "name": "stdout",
     "output_type": "stream",
     "text": [
      "False\n"
     ]
    }
   ],
   "source": [
    "bool myBool = 1 >= 2;\n",
    "Console.WriteLine(myBool);"
   ]
  },
  {
   "cell_type": "markdown",
   "metadata": {},
   "source": [
    "---\n",
    "<br/><br/>\n",
    "# Conditions\n"
   ]
  },
  {
   "cell_type": "code",
   "execution_count": 18,
   "metadata": {},
   "outputs": [],
   "source": [
    "bool myCondition = true;\n",
    "bool otherCondition = false;\n",
    "string myStatementA = \"StatementA\";\n",
    "string myStatementB = \"StatementB\";\n",
    "string myStatementC = \"StatementC\";"
   ]
  },
  {
   "cell_type": "markdown",
   "metadata": {},
   "source": [
    "<br/><br/>\n",
    "```if```: Test if something fulfills a boolean statement"
   ]
  },
  {
   "cell_type": "code",
   "execution_count": 19,
   "metadata": {},
   "outputs": [
    {
     "name": "stdout",
     "output_type": "stream",
     "text": [
      "StatementA\n"
     ]
    }
   ],
   "source": [
    "if(myCondition){\n",
    "    Console.WriteLine(myStatementA);\n",
    "}"
   ]
  },
  {
   "cell_type": "markdown",
   "metadata": {},
   "source": [
    "<br/><br/>\n",
    "```else```: Used in combination with if, and defines what to do in case the if condition is false."
   ]
  },
  {
   "cell_type": "code",
   "execution_count": 20,
   "metadata": {},
   "outputs": [
    {
     "name": "stdout",
     "output_type": "stream",
     "text": [
      "StatementA\n"
     ]
    }
   ],
   "source": [
    "if(myCondition){\n",
    "    Console.WriteLine(myStatementA);\n",
    "}\n",
    "else{\n",
    "    Console.WriteLine(myStatementB);\n",
    "}"
   ]
  },
  {
   "cell_type": "markdown",
   "metadata": {},
   "source": [
    "<br/><br/>\n",
    "```else if```: Combination of if else for multiple conditions"
   ]
  },
  {
   "cell_type": "code",
   "execution_count": 21,
   "metadata": {},
   "outputs": [
    {
     "name": "stdout",
     "output_type": "stream",
     "text": [
      "StatementA\n"
     ]
    }
   ],
   "source": [
    "if(myCondition){\n",
    "    Console.WriteLine(myStatementA);\n",
    "}\n",
    "else if (otherCondition){\n",
    "    Console.WriteLine(myStatementB);\n",
    "}\n",
    "else{\n",
    "    Console.WriteLine(myStatementC);\n",
    "}"
   ]
  },
  {
   "cell_type": "markdown",
   "metadata": {},
   "source": [
    "<br/><br/>\n",
    "\n",
    "---\n",
    "Remember that anything that stands between the ```{}``` falls within the condition. \n",
    "This can be as many statements as you want:\n",
    "```C#\n",
    "if(condition){\n",
    "    someStatement;\n",
    "    anotherStatement;\n",
    "    ...\n",
    "}\n",
    "```"
   ]
  },
  {
   "cell_type": "markdown",
   "metadata": {},
   "source": [
    "__Consequently conditions can also be nested:__"
   ]
  },
  {
   "cell_type": "code",
   "execution_count": 22,
   "metadata": {},
   "outputs": [
    {
     "name": "stdout",
     "output_type": "stream",
     "text": [
      "n is an odd positive number\n"
     ]
    }
   ],
   "source": [
    "int n = 11;\n",
    "\n",
    "if(n > 0){\n",
    "    if(n%2 == 1){\n",
    "        Console.WriteLine(\"n is an odd positive number\");\n",
    "    }\n",
    "    else{\n",
    "        Console.WriteLine(\"n is an even positive number\");\n",
    "    }\n",
    "}"
   ]
  },
  {
   "cell_type": "markdown",
   "metadata": {},
   "source": [
    "---\n",
    "<br/><br/>\n",
    "# Loops\n"
   ]
  },
  {
   "cell_type": "markdown",
   "metadata": {},
   "source": [
    "__While__\n",
    "\n",
    "```C#\n",
    "while(someBoolean){\n",
    "    someStatement;\n",
    "}\n",
    "```\n",
    "\n",
    "```someBoolean``` : The condition that needs to be satisfied at the start of each iteration\n",
    "\n",
    "```someStatement``` : What needs to be done each time  the condition is true"
   ]
  },
  {
   "cell_type": "code",
   "execution_count": 23,
   "metadata": {},
   "outputs": [
    {
     "name": "stdout",
     "output_type": "stream",
     "text": [
      "0\n",
      "1\n",
      "2\n",
      "3\n",
      "4\n",
      "5\n",
      "6\n",
      "7\n",
      "8\n",
      "9\n"
     ]
    }
   ],
   "source": [
    "int n = 0;\n",
    "while(n<10){\n",
    "    Console.WriteLine(n);\n",
    "    n++;\n",
    "}"
   ]
  },
  {
   "cell_type": "code",
   "execution_count": 24,
   "metadata": {},
   "outputs": [
    {
     "name": "stdout",
     "output_type": "stream",
     "text": [
      "0\n",
      "1\n",
      "1\n",
      "2\n",
      "3\n",
      "5\n",
      "8\n",
      "13\n",
      "21\n",
      "34\n"
     ]
    }
   ],
   "source": [
    "int n1 = 0;\n",
    "int n2 = 1;\n",
    "while(n1 < 50){\n",
    "    Console.WriteLine(n1);\n",
    "    int m = n1 + n2;\n",
    "    n1 = n2;\n",
    "    n2 = m;\n",
    "}"
   ]
  },
  {
   "cell_type": "markdown",
   "metadata": {},
   "source": [
    "---\n",
    "__For__\n",
    "\n",
    "```C#\n",
    "for(s1;s2;s3){\n",
    "    someStatement;\n",
    "}\n",
    "```\n",
    "\n",
    "```s1``` : executed once before the loop\n",
    "\n",
    "```s2``` : condition for the loop\n",
    "\n",
    "```someStatement``` : What needs to be done each time  the condition is true\n"
   ]
  },
  {
   "cell_type": "code",
   "execution_count": 25,
   "metadata": {},
   "outputs": [
    {
     "name": "stdout",
     "output_type": "stream",
     "text": [
      "0\n",
      "1\n",
      "2\n",
      "3\n",
      "4\n",
      "5\n",
      "6\n",
      "7\n",
      "8\n",
      "9\n"
     ]
    }
   ],
   "source": [
    "for(int i =0; i < 10; i++){\n",
    "    Console.WriteLine(i);\n",
    "}"
   ]
  },
  {
   "cell_type": "code",
   "execution_count": 26,
   "metadata": {},
   "outputs": [
    {
     "name": "stdout",
     "output_type": "stream",
     "text": [
      "0\n",
      "1\n",
      "1\n",
      "2\n",
      "3\n",
      "5\n",
      "8\n",
      "13\n",
      "21\n",
      "34\n"
     ]
    }
   ],
   "source": [
    "int n1 = 0;\n",
    "int n2 = 1;\n",
    "for (int i = 0; i < 10; i++){\n",
    "    Console.WriteLine(n1);\n",
    "    int m = n1 + n2;\n",
    "    n1 = n2;\n",
    "    n2 = m;\n",
    "}"
   ]
  },
  {
   "cell_type": "markdown",
   "metadata": {},
   "source": [
    "---\n",
    "<br/><br/>\n",
    "# Functions\n"
   ]
  },
  {
   "cell_type": "markdown",
   "metadata": {},
   "source": [
    "\n",
    "```C#\n",
    "void myFunction (int myArgument){\n",
    "    someStatement;\n",
    "    ...\n",
    "}\n",
    "```"
   ]
  },
  {
   "cell_type": "markdown",
   "metadata": {},
   "source": [
    "\n",
    "```void``` : Return type\n",
    "\n",
    "```myFunction``` : Name of the function\n",
    "\n",
    "```int``` : Argument type\n",
    "\n",
    "```myArgument``` : Argument name\n",
    "\n",
    "```someStatement;```:\n",
    "Block of code that is executed when the function is called\n",
    "\n",
    "---"
   ]
  },
  {
   "cell_type": "code",
   "execution_count": 27,
   "metadata": {},
   "outputs": [],
   "source": [
    "void printFibonacci(int upTo){\n",
    "    int n1 = 0;\n",
    "    int n2 = 1;\n",
    "    while(n1 < upTo){\n",
    "        Console.WriteLine(n1);\n",
    "        int m = n1 + n2;\n",
    "        n1 = n2;\n",
    "        n2 = m;\n",
    "    } \n",
    "}"
   ]
  },
  {
   "cell_type": "code",
   "execution_count": 28,
   "metadata": {},
   "outputs": [
    {
     "name": "stdout",
     "output_type": "stream",
     "text": [
      "0\n",
      "1\n",
      "1\n",
      "2\n",
      "3\n",
      "5\n",
      "8\n",
      "13\n",
      "21\n",
      "34\n",
      "55\n",
      "89\n",
      "144\n",
      "233\n"
     ]
    }
   ],
   "source": [
    "printFibonacci(300);"
   ]
  },
  {
   "cell_type": "markdown",
   "metadata": {},
   "source": [
    "---\n",
    "help functions that make certain operations quicker:"
   ]
  },
  {
   "cell_type": "code",
   "execution_count": 29,
   "metadata": {},
   "outputs": [],
   "source": [
    "void print(string toPrint){\n",
    "    Console.WriteLine(toPrint);\n",
    "}"
   ]
  },
  {
   "cell_type": "code",
   "execution_count": 30,
   "metadata": {},
   "outputs": [
    {
     "name": "stdout",
     "output_type": "stream",
     "text": [
      "something\n"
     ]
    }
   ],
   "source": [
    "print(\"something\");"
   ]
  },
  {
   "cell_type": "markdown",
   "metadata": {},
   "source": [
    "---\n",
    "Use a function to retrieve a certain output depending on a given variable:"
   ]
  },
  {
   "cell_type": "code",
   "execution_count": 31,
   "metadata": {},
   "outputs": [],
   "source": [
    "int firstFibonacciAbove(int upTo){\n",
    "    int n1 = 0;\n",
    "    int n2 = 1;\n",
    "    while(n1 < upTo){\n",
    "        int m = n1 + n2;\n",
    "        n1 = n2;\n",
    "        n2 = m;\n",
    "    } \n",
    "    return n1;\n",
    "}"
   ]
  },
  {
   "cell_type": "code",
   "execution_count": 32,
   "metadata": {},
   "outputs": [
    {
     "name": "stderr",
     "output_type": "stream",
     "text": [
      "\n",
      "(2,7): error CS1503: Argument 1: cannot convert from 'int' to 'string'\n",
      "\n"
     ]
    },
    {
     "ename": "Cell not executed",
     "evalue": "compilation error",
     "output_type": "error",
     "traceback": []
    }
   ],
   "source": [
    "n = firstFibonacciAbove(40);\n",
    "print(n);"
   ]
  },
  {
   "cell_type": "markdown",
   "metadata": {},
   "source": [
    "You can \"overload\" functions. So if the signature of the function is different, but has the name, you can still create that and the compiler will choose the function that matches the argument you provide"
   ]
  },
  {
   "cell_type": "code",
   "execution_count": 35,
   "metadata": {},
   "outputs": [],
   "source": [
    "void print(int toPrint){\n",
    "    Console.WriteLine(toPrint);\n",
    "}"
   ]
  },
  {
   "cell_type": "code",
   "execution_count": 36,
   "metadata": {},
   "outputs": [
    {
     "name": "stdout",
     "output_type": "stream",
     "text": [
      "10\n"
     ]
    }
   ],
   "source": [
    "print(n);"
   ]
  },
  {
   "cell_type": "markdown",
   "metadata": {},
   "source": [
    "---\n",
    "<br/><br/>\n",
    "<br/><br/>\n",
    "<br/><br/>\n",
    "\n",
    "# Instructing Wall-E\n",
    "<img src=\"https://raw.githubusercontent.com/JulianBesems/UD_IntroProject2021/main/2_Algorithms/ImagesSlides2/2_walle.png\" alt=\"drawing\" width=\"1080\"/>\n",
    "\n"
   ]
  },
  {
   "cell_type": "markdown",
   "metadata": {},
   "source": [
    "\n",
    "<br/><br/>\n",
    "\n",
    "\n",
    "__You’re going to write 5 algorithms for 5 tasks Wall-E needs to complete__\n",
    "\n",
    "<img src=\"https://raw.githubusercontent.com/JulianBesems/UD_IntroProject2021/main/2_Algorithms/ImagesSlides2/3_walleField.png\" alt=\"drawing\" width=\"1080\"/>"
   ]
  },
  {
   "cell_type": "markdown",
   "metadata": {},
   "source": [
    "## Given actions are:\n",
    "\n",
    "- Move()\n",
    "- TurnLeft()\n",
    "- TurnRight()\n",
    "- DropScrapBlock()\n",
    "- GetScrapBlock()\n",
    "\n",
    "All of these are pre-defined functions thaat perform the action and do not have a return value. "
   ]
  },
  {
   "cell_type": "markdown",
   "metadata": {},
   "source": [
    "## Given tests are:\n",
    "\n",
    "- InFrontOfWall()\n",
    "- OnBlock()\n",
    "\n",
    "All of these functions test the current state of Wall-E and return a boolean value.\n",
    "\n",
    "---"
   ]
  },
  {
   "cell_type": "markdown",
   "metadata": {},
   "source": [
    "## The tasks Wall-E needs to perform:\n",
    "\n",
    "- __Walk to the opposite wall, turn around and walk back to the wall where he started__\n",
    "\n",
    "- __Walk a lap around the room__\n",
    "    - Then expand this to a specified n number of laps.\n",
    "\n",
    "\n",
    "- __Search for a scrap block and pick it up__\n",
    "\n",
    "- __Put down a scrap block on each empty spot and pick all current scrap blocks up__\n",
    "\n",
    "- __Walk around an obstacle.__\n",
    "\n",
    "\n",
    "---"
   ]
  },
  {
   "cell_type": "markdown",
   "metadata": {},
   "source": [
    "\n",
    "<br/><br/>\n",
    "\n",
    "\n",
    "# Example\n",
    "\n",
    "<img src=\"https://raw.githubusercontent.com/JulianBesems/UD_IntroProject2021/main/2_Algorithms/ImagesSlides2/4_WalleExample.001.jpeg\" alt=\"drawing\" width=\"1080\"/>\n",
    "\n",
    "---\n",
    "\n",
    "<img src=\"https://raw.githubusercontent.com/JulianBesems/UD_IntroProject2021/main/2_Algorithms/ImagesSlides2/4_WalleExample.002.jpeg\" alt=\"drawing\" width=\"1080\"/>\n",
    "\n",
    "---\n",
    "\n",
    "<img src=\"https://raw.githubusercontent.com/JulianBesems/UD_IntroProject2021/main/2_Algorithms/ImagesSlides2/4_WalleExample.003.jpeg\" alt=\"drawing\" width=\"1080\"/>\n",
    "\n",
    "---\n",
    "\n",
    "<img src=\"https://raw.githubusercontent.com/JulianBesems/UD_IntroProject2021/main/2_Algorithms/ImagesSlides2/4_WalleExample.004.jpeg\" alt=\"drawing\" width=\"1080\"/>\n",
    "\n",
    "---\n",
    "\n",
    "<img src=\"https://raw.githubusercontent.com/JulianBesems/UD_IntroProject2021/main/2_Algorithms/ImagesSlides2/4_WalleExample.005.jpeg\" alt=\"drawing\" width=\"1080\"/>\n",
    "\n",
    "---\n",
    "\n",
    "<img src=\"https://raw.githubusercontent.com/JulianBesems/UD_IntroProject2021/main/2_Algorithms/ImagesSlides2/4_WalleExample.006.jpeg\" alt=\"drawing\" width=\"1080\"/>\n",
    "\n",
    "---\n",
    "\n",
    "<img src=\"https://raw.githubusercontent.com/JulianBesems/UD_IntroProject2021/main/2_Algorithms/ImagesSlides2/4_WalleExample.007.jpeg\" alt=\"drawing\" width=\"1080\"/>\n",
    "\n",
    "---\n",
    "\n",
    "<img src=\"https://raw.githubusercontent.com/JulianBesems/UD_IntroProject2021/main/2_Algorithms/ImagesSlides2/4_WalleExample.008.jpeg\" alt=\"drawing\" width=\"1080\"/>\n",
    "\n",
    "---\n",
    "\n",
    "<img src=\"https://raw.githubusercontent.com/JulianBesems/UD_IntroProject2021/main/2_Algorithms/ImagesSlides2/4_WalleExample.009.jpeg\" alt=\"drawing\" width=\"1080\"/>\n",
    "\n",
    "---\n",
    "\n",
    "<img src=\"https://raw.githubusercontent.com/JulianBesems/UD_IntroProject2021/main/2_Algorithms/ImagesSlides2/4_WalleExample.010.jpeg\" alt=\"drawing\" width=\"1080\"/>\n",
    "\n",
    "---\n",
    "\n",
    "<img src=\"https://raw.githubusercontent.com/JulianBesems/UD_IntroProject2021/main/2_Algorithms/ImagesSlides2/4_WalleExample.011.jpeg\" alt=\"drawing\" width=\"1080\"/>\n",
    "\n",
    "---\n",
    "\n",
    "<img src=\"https://raw.githubusercontent.com/JulianBesems/UD_IntroProject2021/main/2_Algorithms/ImagesSlides2/4_WalleExample.012.jpeg\" alt=\"drawing\" width=\"1080\"/>"
   ]
  },
  {
   "cell_type": "markdown",
   "metadata": {},
   "source": [
    "---\n",
    "\n",
    "<br/> <br/>\n",
    "\n",
    "# Assignments \n",
    "### In Visual Studio:\n",
    "- Define a function that takes an integer as input, prints  all integers that it is divisable by, and returns the largest one. \n",
    "\n",
    "### in Unity:\n",
    "__Use if, else, variable and function declarations to write 5 algorithms for Wall-E:__\n",
    "\n",
    "- __Walk to the opposite wall, turn around and walk back to the wall where he started__\n",
    "\n",
    "- __Walk a lap around the room__\n",
    "    - Then expand this to a specified n number of laps.\n",
    "\n",
    "\n",
    "- __Search for a scrap block and pick it up__\n",
    "\n",
    "- __Put down a scrap block on each empty spot and pick all current scrap blocks up__\n",
    "\n",
    "- __Walk around an obstacle.__"
   ]
  },
  {
   "cell_type": "code",
   "execution_count": null,
   "metadata": {},
   "outputs": [],
   "source": []
  }
 ],
 "metadata": {
  "celltoolbar": "Raw Cell Format",
  "kernelspec": {
   "display_name": ".NET (C#)",
   "language": "C#",
   "name": ".net-csharp"
  },
  "language_info": {
   "file_extension": ".cs",
   "mimetype": "text/x-csharp",
   "name": "C#",
   "pygments_lexer": "csharp",
   "version": "9.0"
  }
 },
 "nbformat": 4,
 "nbformat_minor": 2
}
